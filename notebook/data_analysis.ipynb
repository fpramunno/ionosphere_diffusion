{
 "cells": [
  {
   "cell_type": "code",
   "execution_count": 3,
   "id": "42cfd5ff",
   "metadata": {},
   "outputs": [],
   "source": [
    "import numpy as np\n",
    "\n",
    "test_data = np.load(\"/mnt/nas05/data01/francesco/sdo_img2img/sde_mag2mag_v2/progetto_simone/data/pickled_maps/map_2024_12_1_0_0_0.npy\", allow_pickle=True)"
   ]
  },
  {
   "cell_type": "code",
   "execution_count": null,
   "id": "31b2adc7",
   "metadata": {},
   "outputs": [],
   "source": [
    "test_data"
   ]
  },
  {
   "cell_type": "code",
   "execution_count": null,
   "id": "c2e6e28b",
   "metadata": {},
   "outputs": [],
   "source": [
    "import matplotlib.pyplot as plt\n",
    "\n",
    "plt.imshow(test_data[0])"
   ]
  },
  {
   "cell_type": "code",
   "execution_count": null,
   "id": "733e9b4f",
   "metadata": {},
   "outputs": [],
   "source": [
    "test_data[0].shape"
   ]
  },
  {
   "cell_type": "code",
   "execution_count": null,
   "id": "9d0e76f3",
   "metadata": {},
   "outputs": [],
   "source": [
    "np.std(test_data[0])"
   ]
  },
  {
   "cell_type": "code",
   "execution_count": 1,
   "id": "e6d29239",
   "metadata": {},
   "outputs": [],
   "source": [
    "import pandas as pd\n",
    "\n",
    "stats_df = pd.read_csv(r\"/mnt/nas05/data01/francesco/sdo_img2img/sde_mag2mag_v2/npy_metrics.csv\")"
   ]
  },
  {
   "cell_type": "code",
   "execution_count": null,
   "id": "4591b955",
   "metadata": {},
   "outputs": [],
   "source": [
    "sorted(stats_df['filename'])[0]"
   ]
  },
  {
   "cell_type": "code",
   "execution_count": null,
   "id": "bce5b7cc",
   "metadata": {},
   "outputs": [],
   "source": [
    "stats_df['filename'].iloc[0]"
   ]
  },
  {
   "cell_type": "code",
   "execution_count": null,
   "id": "cad7fa90",
   "metadata": {},
   "outputs": [],
   "source": [
    "stats_df[\"timestamp_str\"] = stats_df[\"filename\"].str.extract(r\"map_(\\d+_\\d+_\\d+_\\d+_\\d+_\\d+)\\.npy\")\n"
   ]
  },
  {
   "cell_type": "code",
   "execution_count": null,
   "id": "d72f836d",
   "metadata": {},
   "outputs": [],
   "source": [
    "stats_df[\"datetime\"] = pd.to_datetime(stats_df[\"timestamp_str\"], format=\"%Y_%m_%d_%H_%M_%S\")\n"
   ]
  },
  {
   "cell_type": "code",
   "execution_count": null,
   "id": "c3a621ff",
   "metadata": {},
   "outputs": [],
   "source": [
    "stats_df = stats_df.sort_values(by=\"datetime\", ascending=True)"
   ]
  },
  {
   "cell_type": "code",
   "execution_count": null,
   "id": "40d6442c",
   "metadata": {},
   "outputs": [],
   "source": [
    "(stats_df['mean']).mean(), stats_df['std'].mean()  # or better: use RMS of stds\n"
   ]
  },
  {
   "cell_type": "markdown",
   "id": "8cf53a5d",
   "metadata": {},
   "source": [
    "stats_df"
   ]
  },
  {
   "cell_type": "code",
   "execution_count": null,
   "id": "942ace1f",
   "metadata": {},
   "outputs": [],
   "source": [
    "import pandas as pd\n",
    "import matplotlib.pyplot as plt\n",
    "from datetime import datetime\n",
    "\n",
    "stats = ['std', 'max', 'min', 'mean']\n",
    "# Plot\n",
    "for value in stats:\n",
    "    plt.figure(figsize=(12, 5))\n",
    "    plt.plot(stats_df['datetime'], stats_df[f'{value}'], color='black')\n",
    "\n",
    "    # Labels and formatting\n",
    "    plt.xlabel(\"Year\", fontsize=25)\n",
    "    plt.ylabel(f\"{value}\", fontsize=25)\n",
    "    plt.title(f\"{value}\", fontsize=25)\n",
    "    plt.xticks(rotation=45, fontsize=15)\n",
    "    plt.yticks(fontsize=15)\n",
    "    plt.grid(True)\n",
    "    plt.show()\n",
    "    plt.tight_layout()\n",
    "    plt.savefig(f\"/mnt/nas05/data01/francesco/sdo_img2img/sde_mag2mag_v2/plots/{value}.png\")\n",
    "    plt.close()\n"
   ]
  },
  {
   "cell_type": "code",
   "execution_count": null,
   "id": "9b6bba53",
   "metadata": {},
   "outputs": [],
   "source": [
    "import sys\n",
    "sys.path.append(\"/mnt/nas05/data01/francesco/progetto_simone/ionosphere\")  # add current dir, where src/ is located\n",
    "\n",
    "from src.data.dataset import IonoDataset"
   ]
  },
  {
   "cell_type": "code",
   "execution_count": null,
   "id": "636e0925",
   "metadata": {},
   "outputs": [],
   "source": [
    "train_dataset = IonoDataset(\n",
    "    path=\"/mnt/nas05/data01/francesco/sdo_img2img/sde_mag2mag_v2/progetto_simone/data/pickled_maps\",\n",
    "    transforms=True,\n",
    "    split='train',\n",
    "    seed=42\n",
    ")"
   ]
  },
  {
   "cell_type": "code",
   "execution_count": null,
   "id": "517bc560",
   "metadata": {},
   "outputs": [],
   "source": [
    "train_dataset[0]"
   ]
  },
  {
   "cell_type": "code",
   "execution_count": null,
   "id": "3e6ec45c",
   "metadata": {},
   "outputs": [],
   "source": [
    "import torch\n",
    "torch.max(train_dataset[0][0]), torch.min(train_dataset[0][0]), torch.mean(train_dataset[0][0]), torch.std(train_dataset[0][0])"
   ]
  },
  {
   "cell_type": "code",
   "execution_count": null,
   "id": "58ff330b",
   "metadata": {},
   "outputs": [],
   "source": [
    "import matplotlib.pyplot as plt\n",
    "plt.imshow(train_dataset[0][0][0].cpu().numpy())\n",
    "plt.colorbar()"
   ]
  },
  {
   "cell_type": "code",
   "execution_count": null,
   "id": "c1e8a065",
   "metadata": {},
   "outputs": [],
   "source": [
    "from src.data.dataset import get_data_objects\n",
    "\n",
    "train_dataset, train_sampler, train_data_loader = get_data_objects(\n",
    "    path=\"/mnt/nas05/data01/francesco/sdo_img2img/sde_mag2mag_v2/progetto_simone/data/pickled_maps\",\n",
    "    batch_size=4,\n",
    "    distributed=False,\n",
    "    num_data_workers=1,\n",
    "    split='train',\n",
    "    seed=42\n",
    ")"
   ]
  },
  {
   "cell_type": "code",
   "execution_count": null,
   "id": "648ad641",
   "metadata": {},
   "outputs": [],
   "source": [
    "train_dataset[0]"
   ]
  },
  {
   "cell_type": "code",
   "execution_count": null,
   "id": "030a92cd",
   "metadata": {},
   "outputs": [],
   "source": [
    "import matplotlib.pyplot as plt\n",
    "plt.imshow(train_dataset[0][0][0].cpu().numpy())\n",
    "plt.colorbar()"
   ]
  },
  {
   "cell_type": "code",
   "execution_count": 7,
   "id": "69118019",
   "metadata": {},
   "outputs": [],
   "source": [
    "import pandas as pd\n",
    "\n",
    "df = pd.read_csv(\"/mnt/nas05/data01/francesco/sdo_img2img/sde_mag2mag_v2/progetto_simone/data/params.csv\")"
   ]
  },
  {
   "cell_type": "code",
   "execution_count": null,
   "id": "6251a897",
   "metadata": {},
   "outputs": [],
   "source": [
    "df"
   ]
  },
  {
   "cell_type": "code",
   "execution_count": null,
   "id": "0957070a",
   "metadata": {},
   "outputs": [],
   "source": [
    "import matplotlib.pyplot as plt\n",
    "\n",
    "plt.hist(df['float3'])\n",
    "df['float3'].min()"
   ]
  },
  {
   "cell_type": "code",
   "execution_count": 3,
   "id": "a4566288",
   "metadata": {},
   "outputs": [],
   "source": [
    "import matplotlib.pyplot as plt\n",
    "from sklearn.preprocessing import StandardScaler\n",
    "\n",
    "features = df[[\"float1\", \"float2\", \"float3\", \"float4\"]]\n",
    "scaler = StandardScaler()\n",
    "X_scaled = scaler.fit_transform(features)"
   ]
  },
  {
   "cell_type": "code",
   "execution_count": null,
   "id": "3b8bc651",
   "metadata": {},
   "outputs": [],
   "source": [
    "# cluster parameters\n",
    "min_cluster = 2\n",
    "max_cluster = 50\n",
    "from yellowbrick.cluster import KElbowVisualizer, SilhouetteVisualizer, InterclusterDistance\n",
    "from sklearn.cluster import KMeans, MeanShift\n",
    "\n",
    "model = KMeans()\n",
    "visualizer = KElbowVisualizer(model, k=(min_cluster, max_cluster + 1))\n",
    "visualizer.fit(X_scaled)  # Fit the data to the visualizer\n",
    "visualizer.show() "
   ]
  },
  {
   "cell_type": "code",
   "execution_count": 4,
   "id": "ef240d80",
   "metadata": {},
   "outputs": [],
   "source": [
    "# with optimal value of the elbo\n",
    "from sklearn.cluster import KMeans\n",
    "optimal_k = 3 #visualizer.elbow_value_\n",
    "kmeans = KMeans(n_clusters=optimal_k, random_state=42)\n",
    "df[\"cluster\"] = kmeans.fit_predict(X_scaled)"
   ]
  },
  {
   "cell_type": "code",
   "execution_count": 7,
   "id": "68fd0511",
   "metadata": {},
   "outputs": [],
   "source": [
    "df.to_csv(\"/mnt/nas05/data01/francesco/sdo_img2img/sde_mag2mag_v2/progetto_simone/data/params_withcluster.csv\", index=False)"
   ]
  },
  {
   "cell_type": "code",
   "execution_count": 4,
   "id": "80f59fc7",
   "metadata": {},
   "outputs": [],
   "source": [
    "import pandas as pd\n",
    "df = pd.read_csv(\"/mnt/nas05/data01/francesco/sdo_img2img/sde_mag2mag_v2/progetto_simone/data/params_withcluster.csv\")"
   ]
  },
  {
   "cell_type": "code",
   "execution_count": null,
   "id": "19807321",
   "metadata": {},
   "outputs": [],
   "source": [
    "import numpy as np\n",
    "np.unique(df['cluster'], return_counts=True)"
   ]
  },
  {
   "cell_type": "code",
   "execution_count": null,
   "id": "ea8cae5e",
   "metadata": {},
   "outputs": [],
   "source": [
    "import matplotlib.pyplot as plt\n",
    "# from sklearn.manifold import TSNE\n",
    "from openTSNE import TSNE\n",
    "\n",
    "# # Reduce dimensionality to 2D for visualization\n",
    "# tsne = TSNE(n_components=2, random_state=42, perplexity=50, learning_rate=200)\n",
    "# X_embedded = tsne.fit_transform(X_scaled)\n",
    "tsne = TSNE(\n",
    "    n_components=2,\n",
    "    perplexity=50,\n",
    "    metric=\"cosine\",\n",
    "    n_jobs=8,  # number of threads\n",
    "    random_state=42\n",
    ")\n",
    "X_embedded = tsne.fit(X_scaled)\n",
    "\n",
    "# Add t-SNE coordinates to DataFrame for plotting\n",
    "df[\"tsne_1\"] = X_embedded[:, 0]\n",
    "df[\"tsne_2\"] = X_embedded[:, 1]\n",
    "\n",
    "# Set figure size to match 1920x1080 pixels with dpi=100\n",
    "fig, ax = plt.subplots(figsize=(19.2, 10.8), dpi=100)\n",
    "\n",
    "# Plot each cluster\n",
    "for cluster_id in sorted(df[\"cluster\"].unique()):\n",
    "    subset = df[df[\"cluster\"] == cluster_id]\n",
    "    ax.scatter(subset[\"tsne_1\"], subset[\"tsne_2\"], s=10, label=f\"Cluster {cluster_id}\", alpha=0.7)\n",
    "\n",
    "# Titles and labels\n",
    "ax.set_title(f\"t-SNE Projection of KMeans Clusters (k={optimal_k})\", fontsize=16)\n",
    "ax.set_xlabel(\"t-SNE 1\", fontsize=12)\n",
    "ax.set_ylabel(\"t-SNE 2\", fontsize=12)\n",
    "ax.legend(markerscale=2, fontsize=\"small\", loc=\"best\")\n",
    "ax.grid(True)\n",
    "\n",
    "# Save as Full HD PNG\n",
    "plt.tight_layout()\n",
    "# plt.savefig(\"tsne_clusters_fullhd.png\", dpi=100)  # or dpi=200 for 4K\n",
    "plt.show()\n",
    "\n"
   ]
  },
  {
   "cell_type": "code",
   "execution_count": 15,
   "id": "94b1c9ba",
   "metadata": {},
   "outputs": [],
   "source": [
    "df_0 = df[df[\"cluster\"] == 0]\n",
    "df_1 = df[df[\"cluster\"] == 1]\n",
    "df_2 = df[df[\"cluster\"] == 2]"
   ]
  },
  {
   "cell_type": "code",
   "execution_count": null,
   "id": "03579b12",
   "metadata": {},
   "outputs": [],
   "source": [
    "from datetime import datetime\n",
    "import matplotlib.pyplot as plt\n",
    "\n",
    "dates = []\n",
    "for f in df['filename']:\n",
    "    parts = f.replace('.npy', '').split('_')\n",
    "    year, month, day, hour, minute, second = map(int, parts[1:])\n",
    "    dates.append(datetime(year, month, day, hour, minute, second))\n",
    "\n",
    "df['dates'] = dates\n",
    "\n",
    "df['month'] = df['dates'].dt.month\n",
    "monthly_counts = df.groupby(['month', 'cluster']).size().unstack(fill_value=0)\n",
    "\n",
    "monthly_counts.plot(kind='bar', stacked=True, colormap='Set1', figsize=(19.2, 10.8))\n",
    "plt.title(\"Cluster Distribution by Month\", fontsize=25)\n",
    "plt.xlabel(\"Month\", fontsize=20)\n",
    "plt.xticks(fontsize=15)\n",
    "plt.yticks(fontsize=15)\n",
    "plt.ylabel(\"Number of Samples\", fontsize=20)\n",
    "plt.legend(title='Cluster', fontsize=15)\n",
    "plt.grid(True)\n",
    "plt.tight_layout()\n",
    "plt.show()"
   ]
  },
  {
   "cell_type": "code",
   "execution_count": null,
   "id": "6152df69",
   "metadata": {},
   "outputs": [],
   "source": [
    "df_2"
   ]
  },
  {
   "cell_type": "code",
   "execution_count": null,
   "id": "3810d58e",
   "metadata": {},
   "outputs": [],
   "source": [
    "# Assuming you have a DataFrame df with float1, float2, float3 and cluster\n",
    "summary = df.groupby(\"cluster\")[[\"float1\", \"float2\", \"float3\", \"float4\"]].agg([\"mean\", \"std\", \"min\", \"max\"])\n",
    "\n",
    "# Optional: flatten MultiIndex columns\n",
    "summary.columns = ['_'.join(col) for col in summary.columns]\n",
    "\n",
    "# Reset index for readability\n",
    "summary = summary.reset_index()\n",
    "\n",
    "# If you want long-format version for easier plotting:\n",
    "long_summary = pd.melt(\n",
    "    summary,\n",
    "    id_vars=\"cluster\",\n",
    "    var_name=\"feature_stat\",\n",
    "    value_name=\"value\"\n",
    ")\n",
    "\n",
    "# Split 'float1_mean' into 'feature' and 'stat'\n",
    "long_summary[[\"feature\", \"stat\"]] = long_summary[\"feature_stat\"].str.extract(r\"(float\\d)_(\\w+)\")\n",
    "long_summary = long_summary.drop(columns=\"feature_stat\")\n",
    "\n",
    "# Optional: pivot to have mean/std/min/max columns per feature per cluster\n",
    "tidy = long_summary.pivot_table(index=[\"cluster\", \"feature\"], columns=\"stat\", values=\"value\").reset_index()\n",
    "\n",
    "# Pretty print\n",
    "print(tidy)\n"
   ]
  },
  {
   "cell_type": "code",
   "execution_count": null,
   "id": "1e6b235b",
   "metadata": {},
   "outputs": [],
   "source": [
    "for col in [\"float1\", \"float2\", \"float3\", \"float4\"]:\n",
    "    import seaborn as sns\n",
    "    plt.figure(figsize=(6, 4))\n",
    "    sns.violinplot(x=\"cluster\", y=col, data=df, inner=\"quartile\")\n",
    "    plt.title(f\"{col} violin plot per cluster\")\n",
    "    plt.show()\n"
   ]
  },
  {
   "cell_type": "code",
   "execution_count": null,
   "id": "8f4688c2",
   "metadata": {},
   "outputs": [],
   "source": [
    "import seaborn as sns\n",
    "sns.pairplot(df, vars=[\"float1\", \"float2\", \"float3\", \"float4\"], hue=\"cluster\", corner=True)\n"
   ]
  },
  {
   "cell_type": "code",
   "execution_count": null,
   "id": "ece810d4",
   "metadata": {},
   "outputs": [],
   "source": [
    "for cluster_id in [0, 1, 2]:\n",
    "    corr = df[df[\"cluster\"] == cluster_id][[\"float1\", \"float2\", \"float3\", \"float4\"]].corr()\n",
    "    print(f\"\\nCluster {cluster_id} Correlation:\\n{corr}\\n\")\n"
   ]
  },
  {
   "cell_type": "code",
   "execution_count": null,
   "id": "7bda27db",
   "metadata": {},
   "outputs": [],
   "source": [
    "missing_by_month = df[df[\"cluster\"] == 2].groupby(\"month\").size()\n",
    "missing_by_month.plot(kind=\"bar\", title=\"Missing Data Frequency by Month\", ylabel=\"# of Missing Samples\")\n"
   ]
  },
  {
   "cell_type": "code",
   "execution_count": null,
   "id": "dcf44c26",
   "metadata": {},
   "outputs": [],
   "source": [
    "import numpy as np\n",
    "import matplotlib.pyplot as plt\n",
    "import os\n",
    "\n",
    "# Parameters\n",
    "clusters = [0, 1, 2]\n",
    "num_samples = 10\n",
    "image_shape = (24, 360)\n",
    "base_path = \"/mnt/nas05/data01/francesco/sdo_img2img/sde_mag2mag_v2/progetto_simone/data/pickled_maps/\"\n",
    "\n",
    "# Create large grid: 3 rows x 10 columns\n",
    "fig, axes = plt.subplots(nrows=3, ncols=10, figsize=(20, 5), \n",
    "                         gridspec_kw={'wspace': 0.02, 'hspace': 0.0001}, dpi=600)\n",
    "\n",
    "for row_idx, cluster_id in enumerate(clusters):\n",
    "    sample_df = df[df[\"cluster\"] == cluster_id].sample(n=num_samples, random_state=42)\n",
    "    \n",
    "    for col_idx, (idx, row) in enumerate(sample_df.iterrows()):\n",
    "        img_path = os.path.join(base_path, row[\"filename\"])\n",
    "        ax = axes[row_idx, col_idx]\n",
    "\n",
    "        try:\n",
    "            img = np.load(img_path, allow_pickle=True)[0]\n",
    "            if img.shape != image_shape:\n",
    "                print(f\"Skipping image with wrong shape: {img_path}\")\n",
    "                ax.axis(\"off\")\n",
    "                continue\n",
    "        except Exception as e:\n",
    "            print(f\"Failed to load {img_path}: {e}\")\n",
    "            ax.axis(\"off\")\n",
    "            continue\n",
    "        \n",
    "        ax.imshow(img, cmap=\"viridis\", aspect='equal')\n",
    "        ax.axis(\"off\")\n",
    "\n",
    "        if col_idx == 0:\n",
    "            ax.set_ylabel(f\"Cluster {cluster_id}\", fontsize=10)\n",
    "\n",
    "plt.tight_layout(pad=0.0)\n",
    "plt.show()\n",
    "\n"
   ]
  },
  {
   "cell_type": "code",
   "execution_count": null,
   "id": "446ceafa",
   "metadata": {},
   "outputs": [],
   "source": []
  },
  {
   "cell_type": "code",
   "execution_count": 30,
   "id": "8331b55b",
   "metadata": {},
   "outputs": [],
   "source": [
    "import sys\n",
    "sys.path.append(\"/mnt/nas05/data01/francesco/progetto_simone/ionosphere\")\n",
    "from src.data.dataset import get_sequence_data_objects\n",
    "\n",
    "train_dataset, train_sampler, train_dl = get_sequence_data_objects(\n",
    "    csv_path=\"/mnt/nas05/data01/francesco/sdo_img2img/sde_mag2mag_v2/npy_metrics.csv\",\n",
    "    batch_size=2,\n",
    "    distributed=False,\n",
    "    num_data_workers=1,\n",
    "    split='train',\n",
    "    seed=42,\n",
    "    sequence_length=60\n",
    ")"
   ]
  },
  {
   "cell_type": "code",
   "execution_count": 31,
   "id": "29794f4b",
   "metadata": {},
   "outputs": [],
   "source": [
    "data_test = train_dataset[4]"
   ]
  },
  {
   "cell_type": "code",
   "execution_count": 5,
   "id": "fb949eac",
   "metadata": {},
   "outputs": [
    {
     "data": {
      "text/plain": [
       "[datetime.datetime(2024, 8, 31, 10, 0),\n",
       " datetime.datetime(2024, 8, 31, 10, 2),\n",
       " datetime.datetime(2024, 8, 31, 10, 4),\n",
       " datetime.datetime(2024, 8, 31, 10, 6),\n",
       " datetime.datetime(2024, 8, 31, 10, 8),\n",
       " datetime.datetime(2024, 8, 31, 10, 10),\n",
       " datetime.datetime(2024, 8, 31, 10, 12),\n",
       " datetime.datetime(2024, 8, 31, 10, 14),\n",
       " datetime.datetime(2024, 8, 31, 10, 16),\n",
       " datetime.datetime(2024, 8, 31, 10, 18),\n",
       " datetime.datetime(2024, 8, 31, 10, 20),\n",
       " datetime.datetime(2024, 8, 31, 10, 22),\n",
       " datetime.datetime(2024, 8, 31, 10, 24),\n",
       " datetime.datetime(2024, 8, 31, 10, 26),\n",
       " datetime.datetime(2024, 8, 31, 10, 28),\n",
       " datetime.datetime(2024, 8, 31, 10, 30),\n",
       " datetime.datetime(2024, 8, 31, 10, 32),\n",
       " datetime.datetime(2024, 8, 31, 10, 34),\n",
       " datetime.datetime(2024, 8, 31, 10, 36),\n",
       " datetime.datetime(2024, 8, 31, 10, 38)]"
      ]
     },
     "execution_count": 5,
     "metadata": {},
     "output_type": "execute_result"
    }
   ],
   "source": [
    "data_test[2]"
   ]
  },
  {
   "cell_type": "code",
   "execution_count": 3,
   "id": "6127400a",
   "metadata": {},
   "outputs": [
    {
     "data": {
      "text/plain": [
       "torch.Size([20, 1, 24, 360])"
      ]
     },
     "execution_count": 3,
     "metadata": {},
     "output_type": "execute_result"
    }
   ],
   "source": [
    "data_test[3].shape"
   ]
  },
  {
   "cell_type": "code",
   "execution_count": 13,
   "id": "0adf5f09",
   "metadata": {},
   "outputs": [
    {
     "name": "stdout",
     "output_type": "stream",
     "text": [
      "GIF saved as sequence.gif\n"
     ]
    }
   ],
   "source": [
    "import matplotlib.pyplot as plt\n",
    "import imageio\n",
    "import numpy as np\n",
    "import torch\n",
    "\n",
    "# data_test[0] is shape [20, 1, 24, 360]\n",
    "frames = []\n",
    "data_seq = data_test[0]  # shape: [20, 1, 24, 360]\n",
    "# Dynamically set figsize based on image shape for better fit\n",
    "img_h, img_w = data_seq.shape[2], data_seq.shape[3]\n",
    "aspect = img_w / img_h\n",
    "base_height = 4  # inches\n",
    "figsize = (base_height * aspect, base_height)\n",
    "\n",
    "for t in range(data_seq.shape[0]):\n",
    "    img = data_seq[t, 0].cpu().numpy()  # shape: [24, 360]\n",
    "    fig, ax = plt.subplots(figsize=figsize)\n",
    "    im = ax.imshow(img, cmap='viridis', aspect='auto')\n",
    "    ax.set_title(f\"Time step {t}\")\n",
    "    ax.axis('off')\n",
    "    fig.subplots_adjust(left=0, right=1, top=1, bottom=0)\n",
    "    # Convert plot to image array\n",
    "    fig.canvas.draw()\n",
    "    frame = np.frombuffer(fig.canvas.tostring_rgb(), dtype=np.uint8)\n",
    "    frame = frame.reshape(fig.canvas.get_width_height()[::-1] + (3,))\n",
    "    frames.append(frame)\n",
    "    plt.close(fig)\n",
    "\n",
    "# Save as gif\n",
    "imageio.mimsave('sequence.gif', frames, duration=1)\n",
    "print(\"GIF saved as sequence.gif\")\n"
   ]
  },
  {
   "cell_type": "code",
   "execution_count": 15,
   "id": "f1541bcd",
   "metadata": {},
   "outputs": [
    {
     "data": {
      "text/plain": [
       "tensor([1.0600, 8.0900, 4.0900, 0.0000])"
      ]
     },
     "execution_count": 15,
     "metadata": {},
     "output_type": "execute_result"
    }
   ],
   "source": [
    "data_test[1][0]"
   ]
  },
  {
   "cell_type": "code",
   "execution_count": 28,
   "id": "70de0ac5",
   "metadata": {},
   "outputs": [
    {
     "data": {
      "text/plain": [
       "torch.Size([20, 4])"
      ]
     },
     "execution_count": 28,
     "metadata": {},
     "output_type": "execute_result"
    }
   ],
   "source": [
    "data_test[1].shape"
   ]
  },
  {
   "cell_type": "code",
   "execution_count": 32,
   "id": "c465ceb4",
   "metadata": {},
   "outputs": [
    {
     "name": "stderr",
     "output_type": "stream",
     "text": [
      "/tmp/ipykernel_1379002/3680706780.py:51: MatplotlibDeprecationWarning: Auto-removal of grids by pcolor() and pcolormesh() is deprecated since 3.5 and will be removed two minor releases later; please call grid(False) first.\n",
      "  c1 = ax0.pcolormesh(theta_grid, r_grid, grid_values, shading='auto', cmap='plasma')\n"
     ]
    },
    {
     "name": "stdout",
     "output_type": "stream",
     "text": [
      "GIF saved as polar_sequence.gif (duration per frame set to 1.0s, last frame pause 2.0s)\n"
     ]
    }
   ],
   "source": [
    "import numpy as np\n",
    "import matplotlib.pyplot as plt\n",
    "from scipy.interpolate import griddata\n",
    "import imageio\n",
    "\n",
    "for item in data_test[1]:\n",
    "    item[-1] = item[-1] * -1\n",
    "\n",
    "\n",
    "# Prepare frames for animation\n",
    "frames = []\n",
    "cond_names = ['Bx', 'By', 'Bz', 'Vwind']\n",
    "\n",
    "# Convert all condition data to numpy for easier slicing\n",
    "cond_data_all = np.array([d.numpy() if hasattr(d, 'numpy') else np.array(d) for d in data_test[1]])\n",
    "\n",
    "# Time axis for lineplots (use integer steps or actual time if available)\n",
    "timesteps = np.arange(data_test[0].shape[0])\n",
    "\n",
    "# Adjust figure size for better subplot visibility\n",
    "fig_width = 18  # inches, reduced for better aspect\n",
    "fig_height = 6  # inches\n",
    "\n",
    "for t in range(data_test[0].shape[0]):\n",
    "    data = data_test[0][t, 0, :, :].numpy()\n",
    "    time = data_test[2][t]\n",
    "    # Define coordinates\n",
    "    mag_lat = np.linspace(-90, -66, data.shape[0])\n",
    "    mag_lon = np.linspace(0, 360, data.shape[1], endpoint=False)\n",
    "\n",
    "    # Create meshgrid from lat/lon\n",
    "    lon_grid, lat_grid = np.meshgrid(mag_lon, mag_lat)\n",
    "\n",
    "    # Convert to polar coordinates\n",
    "    r = 90 - np.abs(lat_grid.flatten())\n",
    "    theta = np.deg2rad(lon_grid.flatten())\n",
    "\n",
    "    # Interpolate onto regular polar grid\n",
    "    r_i = np.linspace(r.min(), r.max(), 200)\n",
    "    theta_i = np.linspace(0, 2 * np.pi, 360)\n",
    "    r_grid, theta_grid = np.meshgrid(r_i, theta_i)\n",
    "\n",
    "    # Interpolation for original data\n",
    "    points = np.column_stack((r, theta))\n",
    "    grid_values = griddata(points, data.flatten(), (r_grid, theta_grid), method='linear')\n",
    "\n",
    "    # Set up the figure: 1 polar plot + 4 lineplots\n",
    "    fig = plt.figure(figsize=(fig_width, fig_height))\n",
    "    # Main polar plot\n",
    "    ax0 = plt.subplot2grid((1, 5), (0, 0), colspan=1, projection='polar')\n",
    "    c1 = ax0.pcolormesh(theta_grid, r_grid, grid_values, shading='auto', cmap='plasma')\n",
    "    ax0.set_theta_zero_location(\"S\")\n",
    "    ax0.set_theta_direction(-1)\n",
    "    ax0.axis('off')\n",
    "    ax0.set_title(\"Main Data\", fontsize=12)\n",
    "\n",
    "    # 4 additional subplots for Bx, By, Bz, Vwind as lineplots\n",
    "    for i in range(4):\n",
    "        ax = plt.subplot2grid((1, 5), (0, i+1))\n",
    "        ax.set_title(cond_names[i], fontsize=12)\n",
    "        # Plot the line up to current t\n",
    "        ax.plot(timesteps[:t+1], cond_data_all[:t+1, i], color='tab:blue', marker='o')\n",
    "        # Highlight the current point\n",
    "        ax.scatter(timesteps[t], cond_data_all[t, i], color='red', zorder=5)\n",
    "        # Optionally, set axis limits for consistency\n",
    "        ax.set_xlim(timesteps[0], timesteps[-1])\n",
    "        # Set y-limits based on data range, with some margin\n",
    "        y_min = np.min(cond_data_all[:, i])\n",
    "        y_max = np.max(cond_data_all[:, i])\n",
    "        y_pad = 0.1 * (y_max - y_min) if y_max > y_min else 1\n",
    "        ax.set_ylim(y_min - y_pad, y_max + y_pad)\n",
    "        ax.grid(True, alpha=0.3)\n",
    "        ax.tick_params(axis='both', which='both', labelsize=10)\n",
    "        # Show x/y labels for clarity\n",
    "        ax.set_xlabel(\"Timestep\", fontsize=10)\n",
    "        ax.set_ylabel(cond_names[i], fontsize=10)\n",
    "        # Make x-axis ticks more readable\n",
    "        ax.xaxis.set_tick_params(rotation=45)\n",
    "\n",
    "    # Move the title above the image using suptitle and adjust spacing\n",
    "    fig.subplots_adjust(left=0.03, right=0.99, top=0.90, bottom=0.15, wspace=0.35)\n",
    "    fig.suptitle(f\"Time step {t} | Time: {time}\", y=0.98, fontsize=16)\n",
    "    # Convert plot to image array\n",
    "    fig.canvas.draw()\n",
    "    frame = np.frombuffer(fig.canvas.tostring_rgb(), dtype=np.uint8)\n",
    "    frame = frame.reshape(fig.canvas.get_width_height()[::-1] + (3,))\n",
    "    frames.append(frame)\n",
    "    plt.close(fig)\n",
    "\n",
    "# Save as GIF with correct per-frame duration in seconds (not ms!)\n",
    "# imageio.mimsave expects duration in seconds per frame, or a list of seconds per frame\n",
    "# To slow down, set duration to e.g. 1.0 for 1 second per frame\n",
    "# To pause at the last frame, make the last duration longer\n",
    "# Save GIF, loop=0 means infinite loop, loop=1 means play twice, etc.\n",
    "# Use 'fps' instead of 'duration' to control frame rate more precisely\n",
    "imageio.mimsave('polar_sequence.gif', frames, duration=1000, loop=0)\n",
    "print(\"GIF saved as polar_sequence.gif (duration per frame set to {:.1f}s, last frame pause {:.1f}s)\".format(frame_duration, last_frame_pause))\n"
   ]
  },
  {
   "cell_type": "code",
   "execution_count": null,
   "id": "a0e027ea",
   "metadata": {},
   "outputs": [],
   "source": []
  }
 ],
 "metadata": {
  "kernelspec": {
   "display_name": "sdo_project",
   "language": "python",
   "name": "python3"
  },
  "language_info": {
   "codemirror_mode": {
    "name": "ipython",
    "version": 3
   },
   "file_extension": ".py",
   "mimetype": "text/x-python",
   "name": "python",
   "nbconvert_exporter": "python",
   "pygments_lexer": "ipython3",
   "version": "3.10.12"
  }
 },
 "nbformat": 4,
 "nbformat_minor": 5
}
