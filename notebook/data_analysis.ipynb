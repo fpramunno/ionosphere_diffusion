{
 "cells": [
  {
   "cell_type": "code",
   "execution_count": null,
   "id": "42cfd5ff",
   "metadata": {},
   "outputs": [],
   "source": [
    "import numpy as np\n",
    "\n",
    "test_data = np.load(\"/mnt/nas05/data01/francesco/sdo_img2img/sde_mag2mag_v2/progetto_simone/data/pickled_maps/map_2024_1_1_0_0_0.npy\", allow_pickle=True)"
   ]
  },
  {
   "cell_type": "code",
   "execution_count": null,
   "id": "31b2adc7",
   "metadata": {},
   "outputs": [],
   "source": [
    "test_data"
   ]
  },
  {
   "cell_type": "code",
   "execution_count": null,
   "id": "c2e6e28b",
   "metadata": {},
   "outputs": [],
   "source": [
    "import matplotlib.pyplot as plt\n",
    "\n",
    "plt.imshow(test_data[0])"
   ]
  },
  {
   "cell_type": "code",
   "execution_count": null,
   "id": "733e9b4f",
   "metadata": {},
   "outputs": [],
   "source": [
    "test_data[0].shape"
   ]
  },
  {
   "cell_type": "code",
   "execution_count": null,
   "id": "9d0e76f3",
   "metadata": {},
   "outputs": [],
   "source": [
    "np.std(test_data[0])"
   ]
  },
  {
   "cell_type": "code",
   "execution_count": null,
   "id": "e6d29239",
   "metadata": {},
   "outputs": [],
   "source": [
    "import pandas as pd\n",
    "\n",
    "stats_df = pd.read_csv(r\"/mnt/nas05/data01/francesco/sdo_img2img/sde_mag2mag_v2/npy_metrics.csv\")"
   ]
  },
  {
   "cell_type": "code",
   "execution_count": null,
   "id": "bce5b7cc",
   "metadata": {},
   "outputs": [],
   "source": [
    "stats_df['filename'].iloc[0]"
   ]
  },
  {
   "cell_type": "code",
   "execution_count": null,
   "id": "cad7fa90",
   "metadata": {},
   "outputs": [],
   "source": [
    "stats_df[\"timestamp_str\"] = stats_df[\"filename\"].str.extract(r\"map_(\\d+_\\d+_\\d+_\\d+_\\d+_\\d+)\\.npy\")\n"
   ]
  },
  {
   "cell_type": "code",
   "execution_count": null,
   "id": "d72f836d",
   "metadata": {},
   "outputs": [],
   "source": [
    "stats_df[\"datetime\"] = pd.to_datetime(stats_df[\"timestamp_str\"], format=\"%Y_%m_%d_%H_%M_%S\")\n"
   ]
  },
  {
   "cell_type": "code",
   "execution_count": null,
   "id": "c3a621ff",
   "metadata": {},
   "outputs": [],
   "source": [
    "stats_df = stats_df.sort_values(by=\"datetime\", ascending=True)"
   ]
  },
  {
   "cell_type": "code",
   "execution_count": null,
   "id": "40d6442c",
   "metadata": {},
   "outputs": [],
   "source": [
    "(stats_df['mean']).mean(), stats_df['std'].mean()  # or better: use RMS of stds\n"
   ]
  },
  {
   "cell_type": "markdown",
   "id": "8cf53a5d",
   "metadata": {},
   "source": [
    "stats_df"
   ]
  },
  {
   "cell_type": "code",
   "execution_count": null,
   "id": "942ace1f",
   "metadata": {},
   "outputs": [],
   "source": [
    "import pandas as pd\n",
    "import matplotlib.pyplot as plt\n",
    "from datetime import datetime\n",
    "\n",
    "stats = ['std', 'max', 'min', 'mean']\n",
    "# Plot\n",
    "for value in stats:\n",
    "    plt.figure(figsize=(12, 5))\n",
    "    plt.plot(stats_df['datetime'], stats_df[f'{value}'], color='black')\n",
    "\n",
    "    # Labels and formatting\n",
    "    plt.xlabel(\"Year\", fontsize=25)\n",
    "    plt.ylabel(f\"{value}\", fontsize=25)\n",
    "    plt.title(f\"{value}\", fontsize=25)\n",
    "    plt.xticks(rotation=45, fontsize=15)\n",
    "    plt.yticks(fontsize=15)\n",
    "    plt.grid(True)\n",
    "    plt.show()\n",
    "    plt.tight_layout()\n",
    "    plt.savefig(f\"/mnt/nas05/data01/francesco/sdo_img2img/sde_mag2mag_v2/plots/{value}.png\")\n",
    "    plt.close()\n"
   ]
  },
  {
   "cell_type": "code",
   "execution_count": 1,
   "id": "9b6bba53",
   "metadata": {},
   "outputs": [
    {
     "name": "stderr",
     "output_type": "stream",
     "text": [
      "WARNING[XFORMERS]: xFormers can't load C++/CUDA extensions. xFormers was built for:\n",
      "    PyTorch 2.6.0+cu124 with CUDA 1204 (you have 2.6.0+cu118)\n",
      "    Python  3.10.16 (you have 3.10.12)\n",
      "  Please reinstall xformers (see https://github.com/facebookresearch/xformers#installing-xformers)\n",
      "  Memory-efficient attention, SwiGLU, sparse and more won't be available.\n",
      "  Set XFORMERS_MORE_DETAILS=1 for more details\n",
      "/mnt/nas05/data01/francesco/progetto_simone/ionosphere/src/vit.py:26: FutureWarning: xformers.components is deprecated and is not maintained anymore. It might be removed in a future version of xFormers \n",
      "  import xformers.components.attention.core as xfa\n"
     ]
    }
   ],
   "source": [
    "import sys\n",
    "sys.path.append(\"/mnt/nas05/data01/francesco/progetto_simone/ionosphere\")  # add current dir, where src/ is located\n",
    "\n",
    "from src.data.dataset import IonoDataset"
   ]
  },
  {
   "cell_type": "code",
   "execution_count": null,
   "id": "636e0925",
   "metadata": {},
   "outputs": [],
   "source": [
    "train_dataset = IonoDataset(\n",
    "    path=\"/mnt/nas05/data01/francesco/sdo_img2img/sde_mag2mag_v2/progetto_simone/data/pickled_maps\",\n",
    "    transforms=True,\n",
    "    split='train',\n",
    "    seed=42\n",
    ")"
   ]
  },
  {
   "cell_type": "code",
   "execution_count": null,
   "id": "517bc560",
   "metadata": {},
   "outputs": [],
   "source": [
    "train_dataset[0]"
   ]
  },
  {
   "cell_type": "code",
   "execution_count": null,
   "id": "3e6ec45c",
   "metadata": {},
   "outputs": [],
   "source": [
    "import torch\n",
    "torch.max(train_dataset[0][0]), torch.min(train_dataset[0][0]), torch.mean(train_dataset[0][0]), torch.std(train_dataset[0][0])"
   ]
  },
  {
   "cell_type": "code",
   "execution_count": null,
   "id": "58ff330b",
   "metadata": {},
   "outputs": [],
   "source": [
    "import matplotlib.pyplot as plt\n",
    "plt.imshow(train_dataset[0][0][0].cpu().numpy())\n",
    "plt.colorbar()"
   ]
  },
  {
   "cell_type": "code",
   "execution_count": null,
   "id": "c1e8a065",
   "metadata": {},
   "outputs": [],
   "source": [
    "from src.data.dataset import get_data_objects\n",
    "\n",
    "train_dataset, train_sampler, train_data_loader = get_data_objects(\n",
    "    path=\"/mnt/nas05/data01/francesco/sdo_img2img/sde_mag2mag_v2/progetto_simone/data/pickled_maps\",\n",
    "    batch_size=4,\n",
    "    distributed=False,\n",
    "    num_data_workers=1,\n",
    "    split='train',\n",
    "    seed=42\n",
    ")"
   ]
  },
  {
   "cell_type": "code",
   "execution_count": null,
   "id": "648ad641",
   "metadata": {},
   "outputs": [],
   "source": [
    "train_dataset[0]"
   ]
  },
  {
   "cell_type": "code",
   "execution_count": null,
   "id": "030a92cd",
   "metadata": {},
   "outputs": [],
   "source": [
    "import matplotlib.pyplot as plt\n",
    "plt.imshow(train_dataset[0][0][0].cpu().numpy())\n",
    "plt.colorbar()"
   ]
  },
  {
   "cell_type": "code",
   "execution_count": 2,
   "id": "69118019",
   "metadata": {},
   "outputs": [],
   "source": [
    "import pandas as pd\n",
    "\n",
    "df = pd.read_csv(\"/mnt/nas05/data01/francesco/sdo_img2img/sde_mag2mag_v2/progetto_simone/data/params.csv\")"
   ]
  },
  {
   "cell_type": "code",
   "execution_count": 3,
   "id": "6251a897",
   "metadata": {},
   "outputs": [
    {
     "data": {
      "text/html": [
       "<div>\n",
       "<style scoped>\n",
       "    .dataframe tbody tr th:only-of-type {\n",
       "        vertical-align: middle;\n",
       "    }\n",
       "\n",
       "    .dataframe tbody tr th {\n",
       "        vertical-align: top;\n",
       "    }\n",
       "\n",
       "    .dataframe thead th {\n",
       "        text-align: right;\n",
       "    }\n",
       "</style>\n",
       "<table border=\"1\" class=\"dataframe\">\n",
       "  <thead>\n",
       "    <tr style=\"text-align: right;\">\n",
       "      <th></th>\n",
       "      <th>filename</th>\n",
       "      <th>float1</th>\n",
       "      <th>float2</th>\n",
       "      <th>float3</th>\n",
       "      <th>float4</th>\n",
       "    </tr>\n",
       "  </thead>\n",
       "  <tbody>\n",
       "    <tr>\n",
       "      <th>0</th>\n",
       "      <td>map_2024_1_1_13_48_0.npy</td>\n",
       "      <td>3.98</td>\n",
       "      <td>-2.89</td>\n",
       "      <td>2.38</td>\n",
       "      <td>-344.7</td>\n",
       "    </tr>\n",
       "    <tr>\n",
       "      <th>1</th>\n",
       "      <td>map_2024_1_1_11_22_0.npy</td>\n",
       "      <td>1.53</td>\n",
       "      <td>-8.16</td>\n",
       "      <td>-1.46</td>\n",
       "      <td>-324.2</td>\n",
       "    </tr>\n",
       "    <tr>\n",
       "      <th>2</th>\n",
       "      <td>map_2024_1_1_9_6_0.npy</td>\n",
       "      <td>0.00</td>\n",
       "      <td>0.00</td>\n",
       "      <td>0.00</td>\n",
       "      <td>0.0</td>\n",
       "    </tr>\n",
       "    <tr>\n",
       "      <th>3</th>\n",
       "      <td>map_2024_1_1_6_50_0.npy</td>\n",
       "      <td>-2.64</td>\n",
       "      <td>-0.16</td>\n",
       "      <td>-3.36</td>\n",
       "      <td>-330.8</td>\n",
       "    </tr>\n",
       "    <tr>\n",
       "      <th>4</th>\n",
       "      <td>map_2024_1_1_22_50_0.npy</td>\n",
       "      <td>2.08</td>\n",
       "      <td>-8.40</td>\n",
       "      <td>5.39</td>\n",
       "      <td>-346.2</td>\n",
       "    </tr>\n",
       "    <tr>\n",
       "      <th>...</th>\n",
       "      <td>...</td>\n",
       "      <td>...</td>\n",
       "      <td>...</td>\n",
       "      <td>...</td>\n",
       "      <td>...</td>\n",
       "    </tr>\n",
       "    <tr>\n",
       "      <th>263147</th>\n",
       "      <td>map_2024_12_31_23_48_0.npy</td>\n",
       "      <td>-3.73</td>\n",
       "      <td>13.90</td>\n",
       "      <td>0.80</td>\n",
       "      <td>-428.2</td>\n",
       "    </tr>\n",
       "    <tr>\n",
       "      <th>263148</th>\n",
       "      <td>map_2024_12_31_23_50_0.npy</td>\n",
       "      <td>-3.65</td>\n",
       "      <td>13.17</td>\n",
       "      <td>0.74</td>\n",
       "      <td>-424.0</td>\n",
       "    </tr>\n",
       "    <tr>\n",
       "      <th>263149</th>\n",
       "      <td>map_2024_12_31_23_52_0.npy</td>\n",
       "      <td>-3.11</td>\n",
       "      <td>12.52</td>\n",
       "      <td>0.48</td>\n",
       "      <td>-429.8</td>\n",
       "    </tr>\n",
       "    <tr>\n",
       "      <th>263150</th>\n",
       "      <td>map_2024_12_31_23_54_0.npy</td>\n",
       "      <td>-8.00</td>\n",
       "      <td>10.61</td>\n",
       "      <td>2.86</td>\n",
       "      <td>-408.2</td>\n",
       "    </tr>\n",
       "    <tr>\n",
       "      <th>263151</th>\n",
       "      <td>map_2024_12_31_23_56_0.npy</td>\n",
       "      <td>-8.16</td>\n",
       "      <td>10.50</td>\n",
       "      <td>3.17</td>\n",
       "      <td>0.0</td>\n",
       "    </tr>\n",
       "  </tbody>\n",
       "</table>\n",
       "<p>263152 rows × 5 columns</p>\n",
       "</div>"
      ],
      "text/plain": [
       "                          filename  float1  float2  float3  float4\n",
       "0         map_2024_1_1_13_48_0.npy    3.98   -2.89    2.38  -344.7\n",
       "1         map_2024_1_1_11_22_0.npy    1.53   -8.16   -1.46  -324.2\n",
       "2           map_2024_1_1_9_6_0.npy    0.00    0.00    0.00     0.0\n",
       "3          map_2024_1_1_6_50_0.npy   -2.64   -0.16   -3.36  -330.8\n",
       "4         map_2024_1_1_22_50_0.npy    2.08   -8.40    5.39  -346.2\n",
       "...                            ...     ...     ...     ...     ...\n",
       "263147  map_2024_12_31_23_48_0.npy   -3.73   13.90    0.80  -428.2\n",
       "263148  map_2024_12_31_23_50_0.npy   -3.65   13.17    0.74  -424.0\n",
       "263149  map_2024_12_31_23_52_0.npy   -3.11   12.52    0.48  -429.8\n",
       "263150  map_2024_12_31_23_54_0.npy   -8.00   10.61    2.86  -408.2\n",
       "263151  map_2024_12_31_23_56_0.npy   -8.16   10.50    3.17     0.0\n",
       "\n",
       "[263152 rows x 5 columns]"
      ]
     },
     "execution_count": 3,
     "metadata": {},
     "output_type": "execute_result"
    }
   ],
   "source": [
    "df"
   ]
  },
  {
   "cell_type": "code",
   "execution_count": 4,
   "id": "a4566288",
   "metadata": {},
   "outputs": [],
   "source": [
    "import matplotlib.pyplot as plt\n",
    "from sklearn.preprocessing import StandardScaler\n",
    "\n",
    "features = df[[\"float1\", \"float2\", \"float3\", \"float4\"]]\n",
    "scaler = StandardScaler()\n",
    "X_scaled = scaler.fit_transform(features)"
   ]
  },
  {
   "cell_type": "code",
   "execution_count": null,
   "id": "3b8bc651",
   "metadata": {},
   "outputs": [],
   "source": [
    "# cluster parameters\n",
    "min_cluster = 2\n",
    "max_cluster = 50\n",
    "from yellowbrick.cluster import KElbowVisualizer, SilhouetteVisualizer, InterclusterDistance\n",
    "from sklearn.cluster import KMeans, MeanShift\n",
    "\n",
    "model = KMeans()\n",
    "visualizer = KElbowVisualizer(model, k=(min_cluster, max_cluster + 1))\n",
    "visualizer.fit(X_scaled)  # Fit the data to the visualizer\n",
    "visualizer.show() "
   ]
  },
  {
   "cell_type": "code",
   "execution_count": 6,
   "id": "ef240d80",
   "metadata": {},
   "outputs": [],
   "source": [
    "# with optimal value of the elbo\n",
    "from sklearn.cluster import KMeans\n",
    "optimal_k = 13 #visualizer.elbow_value_\n",
    "kmeans = KMeans(n_clusters=optimal_k, random_state=42)\n",
    "df[\"cluster\"] = kmeans.fit_predict(X_scaled)"
   ]
  },
  {
   "cell_type": "code",
   "execution_count": 7,
   "id": "68fd0511",
   "metadata": {},
   "outputs": [
    {
     "data": {
      "text/plain": [
       "0         11\n",
       "1          3\n",
       "2          2\n",
       "3          7\n",
       "4         11\n",
       "          ..\n",
       "263147     9\n",
       "263148     9\n",
       "263149     9\n",
       "263150     9\n",
       "263151    10\n",
       "Name: cluster, Length: 263152, dtype: int32"
      ]
     },
     "execution_count": 7,
     "metadata": {},
     "output_type": "execute_result"
    }
   ],
   "source": [
    "df[\"cluster\"]"
   ]
  },
  {
   "cell_type": "code",
   "execution_count": 9,
   "id": "19807321",
   "metadata": {},
   "outputs": [
    {
     "data": {
      "text/plain": [
       "(array([ 0,  1,  2,  3,  4,  5,  6,  7,  8,  9, 10, 11, 12], dtype=int32),\n",
       " array([ 7637,  5241, 42485, 38962, 37826, 21266,  7207, 22558,   837,\n",
       "        16980, 21470, 25161, 15522]))"
      ]
     },
     "execution_count": 9,
     "metadata": {},
     "output_type": "execute_result"
    }
   ],
   "source": [
    "import numpy as np\n",
    "np.unique(df['cluster'], return_counts=True)"
   ]
  },
  {
   "cell_type": "code",
   "execution_count": null,
   "id": "ea8cae5e",
   "metadata": {},
   "outputs": [],
   "source": [
    "import matplotlib.pyplot as plt\n",
    "# from sklearn.manifold import TSNE\n",
    "from openTSNE import TSNE\n",
    "\n",
    "# # Reduce dimensionality to 2D for visualization\n",
    "# tsne = TSNE(n_components=2, random_state=42, perplexity=50, learning_rate=200)\n",
    "# X_embedded = tsne.fit_transform(X_scaled)\n",
    "tsne = TSNE(\n",
    "    n_components=2,\n",
    "    perplexity=100,\n",
    "    metric=\"cosine\",\n",
    "    n_jobs=8,  # number of threads\n",
    "    random_state=42\n",
    ")\n",
    "X_embedded = tsne.fit(X_scaled)\n",
    "\n",
    "# Add t-SNE coordinates to DataFrame for plotting\n",
    "df[\"tsne_1\"] = X_embedded[:, 0]\n",
    "df[\"tsne_2\"] = X_embedded[:, 1]\n",
    "\n",
    "# Set figure size to match 1920x1080 pixels with dpi=100\n",
    "fig, ax = plt.subplots(figsize=(19.2, 10.8), dpi=200)\n",
    "\n",
    "# Plot each cluster\n",
    "for cluster_id in sorted(df[\"cluster\"].unique()):\n",
    "    subset = df[df[\"cluster\"] == cluster_id]\n",
    "    ax.scatter(subset[\"tsne_1\"], subset[\"tsne_2\"], s=10, label=f\"Cluster {cluster_id}\", alpha=0.7)\n",
    "\n",
    "# Titles and labels\n",
    "ax.set_title(f\"t-SNE Projection of KMeans Clusters (k={optimal_k})\", fontsize=16)\n",
    "ax.set_xlabel(\"t-SNE 1\", fontsize=12)\n",
    "ax.set_ylabel(\"t-SNE 2\", fontsize=12)\n",
    "ax.legend(markerscale=2, fontsize=\"small\", loc=\"best\")\n",
    "ax.grid(True)\n",
    "\n",
    "# Save as Full HD PNG\n",
    "plt.tight_layout()\n",
    "# plt.savefig(\"tsne_clusters_fullhd.png\", dpi=100)  # or dpi=200 for 4K\n",
    "plt.show()\n",
    "\n"
   ]
  },
  {
   "cell_type": "code",
   "execution_count": null,
   "id": "94b1c9ba",
   "metadata": {},
   "outputs": [],
   "source": []
  }
 ],
 "metadata": {
  "kernelspec": {
   "display_name": "Python (sdo_project)",
   "language": "python",
   "name": "sdo_project"
  },
  "language_info": {
   "codemirror_mode": {
    "name": "ipython",
    "version": 3
   },
   "file_extension": ".py",
   "mimetype": "text/x-python",
   "name": "python",
   "nbconvert_exporter": "python",
   "pygments_lexer": "ipython3",
   "version": "3.10.12"
  }
 },
 "nbformat": 4,
 "nbformat_minor": 5
}
