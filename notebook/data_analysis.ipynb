{
 "cells": [
  {
   "cell_type": "code",
   "execution_count": null,
   "id": "42cfd5ff",
   "metadata": {},
   "outputs": [],
   "source": [
    "import numpy as np\n",
    "\n",
    "test_data = np.load(\"/mnt/nas05/data01/francesco/sdo_img2img/sde_mag2mag_v2/progetto_simone/data/pickled_maps/map_2024_1_1_0_0_0.npy\", allow_pickle=True)"
   ]
  },
  {
   "cell_type": "code",
   "execution_count": null,
   "id": "31b2adc7",
   "metadata": {},
   "outputs": [],
   "source": [
    "test_data"
   ]
  },
  {
   "cell_type": "code",
   "execution_count": null,
   "id": "c2e6e28b",
   "metadata": {},
   "outputs": [],
   "source": [
    "import matplotlib.pyplot as plt\n",
    "\n",
    "plt.imshow(test_data[0])"
   ]
  },
  {
   "cell_type": "code",
   "execution_count": null,
   "id": "733e9b4f",
   "metadata": {},
   "outputs": [],
   "source": [
    "test_data[0].shape"
   ]
  },
  {
   "cell_type": "code",
   "execution_count": null,
   "id": "9d0e76f3",
   "metadata": {},
   "outputs": [],
   "source": [
    "np.std(test_data[0])"
   ]
  },
  {
   "cell_type": "code",
   "execution_count": null,
   "id": "e6d29239",
   "metadata": {},
   "outputs": [],
   "source": [
    "import pandas as pd\n",
    "\n",
    "stats_df = pd.read_csv(r\"/mnt/nas05/data01/francesco/sdo_img2img/sde_mag2mag_v2/npy_metrics.csv\")"
   ]
  },
  {
   "cell_type": "code",
   "execution_count": null,
   "id": "bce5b7cc",
   "metadata": {},
   "outputs": [],
   "source": [
    "stats_df['filename'].iloc[0]"
   ]
  },
  {
   "cell_type": "code",
   "execution_count": null,
   "id": "cad7fa90",
   "metadata": {},
   "outputs": [],
   "source": [
    "stats_df[\"timestamp_str\"] = stats_df[\"filename\"].str.extract(r\"map_(\\d+_\\d+_\\d+_\\d+_\\d+_\\d+)\\.npy\")\n"
   ]
  },
  {
   "cell_type": "code",
   "execution_count": null,
   "id": "d72f836d",
   "metadata": {},
   "outputs": [],
   "source": [
    "stats_df[\"datetime\"] = pd.to_datetime(stats_df[\"timestamp_str\"], format=\"%Y_%m_%d_%H_%M_%S\")\n"
   ]
  },
  {
   "cell_type": "code",
   "execution_count": null,
   "id": "c3a621ff",
   "metadata": {},
   "outputs": [],
   "source": [
    "stats_df = stats_df.sort_values(by=\"datetime\", ascending=True)"
   ]
  },
  {
   "cell_type": "code",
   "execution_count": null,
   "id": "40d6442c",
   "metadata": {},
   "outputs": [],
   "source": [
    "(stats_df['mean']).mean(), stats_df['std'].mean()  # or better: use RMS of stds\n"
   ]
  },
  {
   "cell_type": "markdown",
   "id": "8cf53a5d",
   "metadata": {},
   "source": [
    "stats_df"
   ]
  },
  {
   "cell_type": "code",
   "execution_count": null,
   "id": "942ace1f",
   "metadata": {},
   "outputs": [],
   "source": [
    "import pandas as pd\n",
    "import matplotlib.pyplot as plt\n",
    "from datetime import datetime\n",
    "\n",
    "stats = ['std', 'max', 'min', 'mean']\n",
    "# Plot\n",
    "for value in stats:\n",
    "    plt.figure(figsize=(12, 5))\n",
    "    plt.plot(stats_df['datetime'], stats_df[f'{value}'], color='black')\n",
    "\n",
    "    # Labels and formatting\n",
    "    plt.xlabel(\"Year\", fontsize=25)\n",
    "    plt.ylabel(f\"{value}\", fontsize=25)\n",
    "    plt.title(f\"{value}\", fontsize=25)\n",
    "    plt.xticks(rotation=45, fontsize=15)\n",
    "    plt.yticks(fontsize=15)\n",
    "    plt.grid(True)\n",
    "    plt.show()\n",
    "    plt.tight_layout()\n",
    "    plt.savefig(f\"/mnt/nas05/data01/francesco/sdo_img2img/sde_mag2mag_v2/plots/{value}.png\")\n",
    "    plt.close()\n"
   ]
  },
  {
   "cell_type": "code",
   "execution_count": 1,
   "id": "9b6bba53",
   "metadata": {},
   "outputs": [
    {
     "name": "stderr",
     "output_type": "stream",
     "text": [
      "WARNING[XFORMERS]: xFormers can't load C++/CUDA extensions. xFormers was built for:\n",
      "    PyTorch 2.6.0+cu124 with CUDA 1204 (you have 2.6.0+cu118)\n",
      "    Python  3.10.16 (you have 3.10.12)\n",
      "  Please reinstall xformers (see https://github.com/facebookresearch/xformers#installing-xformers)\n",
      "  Memory-efficient attention, SwiGLU, sparse and more won't be available.\n",
      "  Set XFORMERS_MORE_DETAILS=1 for more details\n",
      "/mnt/nas05/data01/francesco/progetto_simone/ionosphere/src/vit.py:26: FutureWarning: xformers.components is deprecated and is not maintained anymore. It might be removed in a future version of xFormers \n",
      "  import xformers.components.attention.core as xfa\n"
     ]
    }
   ],
   "source": [
    "import sys\n",
    "sys.path.append(\"/mnt/nas05/data01/francesco/progetto_simone/ionosphere\")  # add current dir, where src/ is located\n",
    "\n",
    "from src.data.dataset import IonoDataset"
   ]
  },
  {
   "cell_type": "code",
   "execution_count": null,
   "id": "636e0925",
   "metadata": {},
   "outputs": [],
   "source": [
    "train_dataset = IonoDataset(\n",
    "    path=\"/mnt/nas05/data01/francesco/sdo_img2img/sde_mag2mag_v2/progetto_simone/data/pickled_maps\",\n",
    "    transforms=True,\n",
    "    split='train',\n",
    "    seed=42\n",
    ")"
   ]
  },
  {
   "cell_type": "code",
   "execution_count": null,
   "id": "517bc560",
   "metadata": {},
   "outputs": [],
   "source": [
    "train_dataset[0]"
   ]
  },
  {
   "cell_type": "code",
   "execution_count": null,
   "id": "3e6ec45c",
   "metadata": {},
   "outputs": [],
   "source": [
    "import torch\n",
    "torch.max(train_dataset[0][0]), torch.min(train_dataset[0][0]), torch.mean(train_dataset[0][0]), torch.std(train_dataset[0][0])"
   ]
  },
  {
   "cell_type": "code",
   "execution_count": null,
   "id": "58ff330b",
   "metadata": {},
   "outputs": [],
   "source": [
    "import matplotlib.pyplot as plt\n",
    "plt.imshow(train_dataset[0][0][0].cpu().numpy())\n",
    "plt.colorbar()"
   ]
  },
  {
   "cell_type": "code",
   "execution_count": 3,
   "id": "c1e8a065",
   "metadata": {},
   "outputs": [],
   "source": [
    "from src.data.dataset import get_data_objects\n",
    "\n",
    "train_dataset, train_sampler, train_data_loader = get_data_objects(\n",
    "    path=\"/mnt/nas05/data01/francesco/sdo_img2img/sde_mag2mag_v2/progetto_simone/data/pickled_maps\",\n",
    "    batch_size=4,\n",
    "    distributed=False,\n",
    "    num_data_workers=1,\n",
    "    split='train',\n",
    "    seed=42\n",
    ")"
   ]
  },
  {
   "cell_type": "code",
   "execution_count": 4,
   "id": "648ad641",
   "metadata": {},
   "outputs": [
    {
     "data": {
      "text/plain": [
       "(tensor([[[ 0.2949,  0.2967,  0.2985,  ...,  0.2888,  0.2909,  0.2930],\n",
       "          [ 0.5085,  0.5144,  0.5204,  ...,  0.4885,  0.4955,  0.5024],\n",
       "          [ 0.7907,  0.8027,  0.8148,  ...,  0.7501,  0.7644,  0.7786],\n",
       "          ...,\n",
       "          [-0.1932, -0.1905, -0.1878,  ..., -0.2025, -0.1992, -0.1959],\n",
       "          [-0.2883, -0.2868, -0.2853,  ..., -0.2932, -0.2915, -0.2899],\n",
       "          [-0.3375, -0.3370, -0.3365,  ..., -0.3389, -0.3384, -0.3379]]]),\n",
       " 2.07,\n",
       " -2.33,\n",
       " 1.73)"
      ]
     },
     "execution_count": 4,
     "metadata": {},
     "output_type": "execute_result"
    }
   ],
   "source": [
    "train_dataset[0]"
   ]
  },
  {
   "cell_type": "code",
   "execution_count": 5,
   "id": "030a92cd",
   "metadata": {},
   "outputs": [
    {
     "data": {
      "text/plain": [
       "<matplotlib.colorbar.Colorbar at 0x7090ed820460>"
      ]
     },
     "execution_count": 5,
     "metadata": {},
     "output_type": "execute_result"
    },
    {
     "data": {
      "image/png": "[encoded data removed]",
      "text/plain": [
       "<Figure size 640x480 with 2 Axes>"
      ]
     },
     "metadata": {},
     "output_type": "display_data"
    }
   ],
   "source": [
    "import matplotlib.pyplot as plt\n",
    "plt.imshow(train_dataset[0][0][0].cpu().numpy())\n",
    "plt.colorbar()"
   ]
  },
  {
   "cell_type": "code",
   "execution_count": null,
   "id": "69118019",
   "metadata": {},
   "outputs": [],
   "source": []
  }
 ],
 "metadata": {
  "kernelspec": {
   "display_name": "Python (sdo_project)",
   "language": "python",
   "name": "sdo_project"
  },
  "language_info": {
   "codemirror_mode": {
    "name": "ipython",
    "version": 3
   },
   "file_extension": ".py",
   "mimetype": "text/x-python",
   "name": "python",
   "nbconvert_exporter": "python",
   "pygments_lexer": "ipython3",
   "version": "3.10.12"
  }
 },
 "nbformat": 4,
 "nbformat_minor": 5
}
